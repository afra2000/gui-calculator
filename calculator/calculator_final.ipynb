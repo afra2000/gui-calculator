{
 "cells": [
  {
   "cell_type": "code",
   "execution_count": 1,
   "metadata": {},
   "outputs": [],
   "source": [
    "from PyQt5 import uic,QtWidgets\n",
    "import sys"
   ]
  },
  {
   "cell_type": "code",
   "execution_count": 2,
   "metadata": {},
   "outputs": [],
   "source": [
    "def press(): \n",
    "    button=calc.sender()\n",
    "    newlabel=calc.ip.text()+button.text()\n",
    "    calc.ip.setText(newlabel)\n",
    "def dec_press():\n",
    "    calc.ip.setText(calc.ip.text()+'.')\n",
    "def equals():\n",
    "    r=0\n",
    "    try:\n",
    "        r=eval(calc.ip.text())\n",
    "        calc.ip.setText(str(r))\n",
    "    except :\n",
    "        calc.ip.setText(\"Error\")\n",
    "    \n",
    "def clear():\n",
    "    calc.ip.setText('')"
   ]
  },
  {
   "cell_type": "code",
   "execution_count": 3,
   "metadata": {},
   "outputs": [
    {
     "ename": "SystemExit",
     "evalue": "0",
     "output_type": "error",
     "traceback": [
      "An exception has occurred, use %tb to see the full traceback.\n",
      "\u001b[1;31mSystemExit\u001b[0m\u001b[1;31m:\u001b[0m 0\n"
     ]
    },
    {
     "name": "stderr",
     "output_type": "stream",
     "text": [
      "C:\\Anaconda3\\lib\\site-packages\\IPython\\core\\interactiveshell.py:3334: UserWarning: To exit: use 'exit', 'quit', or Ctrl-D.\n",
      "  warn(\"To exit: use 'exit', 'quit', or Ctrl-D.\", stacklevel=1)\n"
     ]
    }
   ],
   "source": [
    "app=QtWidgets.QApplication([])\n",
    "calc=uic.loadUi('calc.ui')\n",
    "calc.show()\n",
    "r=0\n",
    "calc.one.clicked.connect(press)\n",
    "calc.two.clicked.connect(press)\n",
    "calc.three.clicked.connect(press)\n",
    "calc.four.clicked.connect(press)\n",
    "calc.five.clicked.connect(press)\n",
    "calc.six.clicked.connect(press)\n",
    "calc.seven.clicked.connect(press)\n",
    "calc.eight.clicked.connect(press)\n",
    "calc.nine.clicked.connect(press)\n",
    "calc.zero.clicked.connect(press)\n",
    "calc.dec.clicked.connect(dec_press)\n",
    "calc.add.clicked.connect(press)\n",
    "calc.sub.clicked.connect(press)\n",
    "calc.div.clicked.connect(press)\n",
    "calc.mul.clicked.connect(press)\n",
    "calc.equals.clicked.connect(equals)\n",
    "calc.clear.clicked.connect(clear)\n",
    "sys.exit(app.exec())"
   ]
  },
  {
   "cell_type": "code",
   "execution_count": null,
   "metadata": {},
   "outputs": [],
   "source": []
  }
 ],
 "metadata": {
  "kernelspec": {
   "display_name": "Python 3",
   "language": "python",
   "name": "python3"
  },
  "language_info": {
   "codemirror_mode": {
    "name": "ipython",
    "version": 3
   },
   "file_extension": ".py",
   "mimetype": "text/x-python",
   "name": "python",
   "nbconvert_exporter": "python",
   "pygments_lexer": "ipython3",
   "version": "3.7.4"
  }
 },
 "nbformat": 4,
 "nbformat_minor": 2
}
